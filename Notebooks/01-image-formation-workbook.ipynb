{
 "cells": [
  {
   "cell_type": "markdown",
   "metadata": {},
   "source": [
    "<center>\n",
    "    <tr>\n",
    "    <td><img src=\"ontario-tech-univ-logo.png\" width=\"25%\"></img></td>\n",
    "    </tr>\n",
    "</center>"
   ]
  },
  {
   "cell_type": "markdown",
   "metadata": {},
   "source": [
    "# Image formation and pinhole camera model - Workbook\n",
    "\n",
    "Faisal Qureshi   \n",
    "Professor    \n",
    "Faculty of Science    \n",
    "Ontario Tech University    \n",
    "Oshawa ON Canada    \n",
    "http://vclab.science.ontariotechu.ca"
   ]
  },
  {
   "cell_type": "code",
   "execution_count": 1,
   "metadata": {},
   "outputs": [],
   "source": [
    "import numpy as np\n",
    "import math\n",
    "from scipy import linalg"
   ]
  },
  {
   "cell_type": "markdown",
   "metadata": {},
   "source": [
    "## Exercise: determining camera parameters from a projection matrix\n",
    "\n",
    "(This is example 6.2 from [Multiple View Geometry in Computer Vision (2nd Ed.)](https://www.robots.ox.ac.uk/~vgg/hzbook/) by Harley and Zisserman)\n",
    "\n",
    "Suppose we are given a projection matrix $\\mathtt{P}$ as follows:\n",
    "\n",
    "$$\n",
    "\\mathtt{P} = \\begin{bmatrix}\n",
    "3.53553\\times10^{2} & 3.39645\\times10^{2} & 2.77744\\times10^{2} & -1.44946\\times10^{6} \\\\\n",
    "-1.03528\\times10^{2} & 2.33212\\times10^{1} & 4.59607\\times10^{2} &-6.32525\\times10^{5} \\\\\n",
    "7.07107\\times10^{-1} & -3.53553\\times10^{-1} & 6.12372\\times10^{-1} & -9.18559\\times10^{2}\n",
    "\\end{bmatrix}\n",
    "$$\n",
    "Use $\\mathtt{P}$ as given above to find the camera centre, the rotation, and the intrinsic parameters."
   ]
  },
  {
   "cell_type": "code",
   "execution_count": 3,
   "metadata": {},
   "outputs": [],
   "source": [
    "P = np.array([[3.53553e2, 3.39645e2, 2.77744e2, -1.44946e6],\n",
    "              [-1.03528e2, 2.33212e1, 4.59607e2, -6.32525e5],\n",
    "              [7.07107e-1, -3.53553e-1, 6.12372e-1, -9.18559e2]]) "
   ]
  },
  {
   "cell_type": "code",
   "execution_count": 5,
   "metadata": {},
   "outputs": [
    {
     "name": "stdout",
     "output_type": "stream",
     "text": [
      "M = [[ 3.53553e+02  3.39645e+02  2.77744e+02]\n",
      " [-1.03528e+02  2.33212e+01  4.59607e+02]\n",
      " [ 7.07107e-01 -3.53553e-01  6.12372e-01]]\n",
      "M_inv = [[ 8.83882084e-04 -1.53092925e-03  7.48128351e-01]\n",
      " [ 1.94194195e-03  1.00556004e-04 -9.56247129e-01]\n",
      " [ 1.00560104e-04  1.82582265e-03  2.17039911e-01]]\n",
      "p_4 = [-1.44946e+06 -6.32525e+05 -9.18559e+02]\n",
      "Center of this camera is [1000.00073079 2000.001952   1500.00028314]\n"
     ]
    }
   ],
   "source": [
    "# Your solution here\n",
    "M = P[:3,:3]\n",
    "print(f'M = {M}')\n",
    "\n",
    "M_inv = np.linalg.inv(M)\n",
    "print(f'M_inv = {M_inv}')\n",
    "\n",
    "p_4 = P[:,-1]\n",
    "print(f'p_4 = {p_4}')\n",
    "\n",
    "C = - np.dot(M_inv, p_4)\n",
    "print(f'Center of this camera is {C}')"
   ]
  },
  {
   "cell_type": "markdown",
   "metadata": {},
   "source": [
    "M is given, how to find K and R? Ans: RQ decomposition.    "
   ]
  },
  {
   "cell_type": "code",
   "execution_count": 7,
   "metadata": {},
   "outputs": [
    {
     "name": "stdout",
     "output_type": "stream",
     "text": [
      "K = [[ 468.16467128  -91.22505222 -300.00001631]\n",
      " [   0.         -427.20086371 -199.99985412]\n",
      " [   0.            0.           -0.99999975]]\n",
      "R = [[ 0.41380237  0.90914861  0.04707869]\n",
      " [ 0.57338211 -0.22011137 -0.78916661]\n",
      " [-0.70710718  0.35355309 -0.61237215]]\n"
     ]
    }
   ],
   "source": [
    "K, R = linalg.rq(M)\n",
    "\n",
    "print(f'K = {K}')\n",
    "print(f'R = {R}')"
   ]
  },
  {
   "cell_type": "code",
   "execution_count": null,
   "metadata": {},
   "outputs": [],
   "source": [
    "np.isclose(np.dot(R[:,0], R[:,1]), 0)"
   ]
  },
  {
   "cell_type": "code",
   "execution_count": null,
   "metadata": {},
   "outputs": [],
   "source": [
    "np.dot(R, R.T)"
   ]
  },
  {
   "cell_type": "code",
   "execution_count": 8,
   "metadata": {},
   "outputs": [
    {
     "data": {
      "text/plain": [
       "array([[ 468.16467128,  -91.22505222, -300.00001631],\n",
       "       [   0.        , -427.20086371, -199.99985412],\n",
       "       [   0.        ,    0.        ,   -0.99999975]])"
      ]
     },
     "execution_count": 8,
     "metadata": {},
     "output_type": "execute_result"
    }
   ],
   "source": [
    "K"
   ]
  },
  {
   "cell_type": "code",
   "execution_count": 9,
   "metadata": {},
   "outputs": [
    {
     "data": {
      "text/plain": [
       "array([ 468.16467128, -427.20086371,   -0.99999975])"
      ]
     },
     "execution_count": 9,
     "metadata": {},
     "output_type": "execute_result"
    }
   ],
   "source": [
    "np.diag(K)"
   ]
  },
  {
   "cell_type": "code",
   "execution_count": null,
   "metadata": {},
   "outputs": [],
   "source": [
    "np.sign(np.diag(K))"
   ]
  },
  {
   "cell_type": "code",
   "execution_count": 11,
   "metadata": {},
   "outputs": [
    {
     "name": "stdout",
     "output_type": "stream",
     "text": [
      "FOO = [[ 1.  0.  0.]\n",
      " [ 0. -1.  0.]\n",
      " [ 0.  0. -1.]]\n"
     ]
    }
   ],
   "source": [
    "FOO = np.diag(np.sign(np.diag(K)))\n",
    "print(f'FOO = {FOO}')"
   ]
  },
  {
   "cell_type": "code",
   "execution_count": 12,
   "metadata": {},
   "outputs": [
    {
     "data": {
      "text/plain": [
       "array([[1., 0., 0.],\n",
       "       [0., 1., 0.],\n",
       "       [0., 0., 1.]])"
      ]
     },
     "execution_count": 12,
     "metadata": {},
     "output_type": "execute_result"
    }
   ],
   "source": [
    "np.dot(FOO, FOO) # FORTRAN IDENTITY"
   ]
  },
  {
   "cell_type": "markdown",
   "metadata": {},
   "source": [
    "M = K R = (K FOO) (FOO R)"
   ]
  },
  {
   "cell_type": "code",
   "execution_count": 13,
   "metadata": {},
   "outputs": [
    {
     "name": "stdout",
     "output_type": "stream",
     "text": [
      "new_K = [[468.16467128  91.22505222 300.00001631]\n",
      " [  0.         427.20086371 199.99985412]\n",
      " [  0.           0.           0.99999975]]\n"
     ]
    }
   ],
   "source": [
    "new_K = np.dot(K, FOO)\n",
    "print(f'new_K = {new_K}')"
   ]
  },
  {
   "cell_type": "code",
   "execution_count": 14,
   "metadata": {},
   "outputs": [
    {
     "name": "stdout",
     "output_type": "stream",
     "text": [
      "new_R = [[ 0.41380237  0.90914861  0.04707869]\n",
      " [-0.57338211  0.22011137  0.78916661]\n",
      " [ 0.70710718 -0.35355309  0.61237215]]\n"
     ]
    }
   ],
   "source": [
    "new_R = np.dot(FOO, R)\n",
    "print(f'new_R = {new_R}')"
   ]
  },
  {
   "cell_type": "code",
   "execution_count": null,
   "metadata": {},
   "outputs": [],
   "source": []
  }
 ],
 "metadata": {
  "kernelspec": {
   "display_name": "Python 3",
   "language": "python",
   "name": "python3"
  },
  "language_info": {
   "codemirror_mode": {
    "name": "ipython",
    "version": 3
   },
   "file_extension": ".py",
   "mimetype": "text/x-python",
   "name": "python",
   "nbconvert_exporter": "python",
   "pygments_lexer": "ipython3",
   "version": "3.8.3"
  }
 },
 "nbformat": 4,
 "nbformat_minor": 4
}
