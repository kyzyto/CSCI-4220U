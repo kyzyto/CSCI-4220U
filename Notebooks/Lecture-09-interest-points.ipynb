{
 "cells": [
  {
   "cell_type": "code",
   "execution_count": 16,
   "metadata": {},
   "outputs": [],
   "source": [
    "from scipy.spatial import distance\n",
    "import cv2 as cv\n",
    "import numpy as np\n",
    "import scipy as sp\n",
    "from scipy import signal\n",
    "import matplotlib.pyplot as plt\n",
    "import matplotlib.cm as cm\n",
    "import os\n",
    "import scipy.stats as st"
   ]
  },
  {
   "cell_type": "code",
   "execution_count": 17,
   "metadata": {},
   "outputs": [],
   "source": [
    "def draw_rect(cx, cy, w, h, color='red', width=4):\n",
    "    \"\"\"\n",
    "    Requires `import matplotlib as mpl`\n",
    "    \"\"\"\n",
    "    ax = plt.gca()\n",
    "\n",
    "    t, b = cy-h//2, cy+h//2\n",
    "    l, r = cx-w//2, cx+w//2\n",
    "       \n",
    "    rect = mpl.lines.Line2D([l,l,r,r,l],[t,b,b,t,t],color=color,linewidth=width)\n",
    "    ax.add_line(rect)\n",
    "    return int(t), int(b), int(l), int(r)"
   ]
  },
  {
   "cell_type": "code",
   "execution_count": 20,
   "metadata": {},
   "outputs": [
    {
     "name": "stdout",
     "output_type": "stream",
     "text": [
      "E(-4,0) = 19.608802157138122\n"
     ]
    },
    {
     "data": {
      "image/png": "[encoded data removed]",
      "text/plain": [
       "<Figure size 1080x360 with 3 Axes>"
      ]
     },
     "metadata": {
      "needs_background": "light"
     },
     "output_type": "display_data"
    }
   ],
   "source": [
    "#I = np.random.rand(25,25)*0.4 # Flat\n",
    "#I[12:,12:] = np.random.rand(13,13)*0.4+0.6 # Corner\n",
    "I[:,12:] = np.random.rand(25,13)*0.4+0.6 # Line\n",
    "#I[0,0] = 1.0\n",
    "\n",
    "cx, cy, w, h = 12, 12, 12, 12\n",
    "u, v = -4, 0\n",
    "\n",
    "plt.figure(figsize=(15,5))\n",
    "plt.subplot(131)\n",
    "plt.title('Input image')\n",
    "plt.imshow(I, interpolation='none', cmap='gray')\n",
    "t, b, l, r = draw_rect(cx, cy, w, h)\n",
    "plt.plot([cx],[cx],'r*')\n",
    "t_shifted, b_shifted, l_shifted, r_shifted = draw_rect(cx+u, cy+v, w, h, color='green')\n",
    "plt.plot([cx+u],[cy+v],'g*')\n",
    "plt.subplot(132)\n",
    "plt.title('Region centered at ({},{})'.format(cx,cy))\n",
    "I_region = I[t:b,l:r]\n",
    "plt.imshow(I_region, interpolation='none', cmap='gray')\n",
    "plt.subplot(133)\n",
    "plt.title('Shifted region')\n",
    "I_shifted = I[t_shifted:b_shifted,l_shifted:r_shifted]\n",
    "plt.imshow(I_shifted, interpolation='none', cmap='gray')\n",
    "E = np.sum(np.square(I_region - I_shifted)) # Assume w(x,y)=1.0\n",
    "print('E({},{}) = {}'.format(u,v,E))"
   ]
  },
  {
   "cell_type": "code",
   "execution_count": 22,
   "metadata": {},
   "outputs": [],
   "source": [
    "E = np.zeros((13,13), dtype=np.float32)\n",
    "for u in np.arange(-6,7):\n",
    "    for v in np.arange(-6,7):\n",
    "        t, b = int(cy-h//2), int(cy+h//2)\n",
    "        l, r = int(cx-w//2), int(cx+w//2)\n",
    "        ts, bs, ls, rs = t+v, b+v, l+u, r+u   \n",
    "        E[u+6,v+6] = np.sum(np.square(I[t:b,l:r] - I[ts:bs,ls:rs]))"
   ]
  },
  {
   "cell_type": "code",
   "execution_count": 23,
   "metadata": {},
   "outputs": [
    {
     "data": {
      "text/plain": [
       "<matplotlib.image.AxesImage at 0x7fcc77a75070>"
      ]
     },
     "execution_count": 23,
     "metadata": {},
     "output_type": "execute_result"
    },
    {
     "data": {
      "image/png": "[encoded data removed]",
      "text/plain": [
       "<Figure size 360x360 with 1 Axes>"
      ]
     },
     "metadata": {
      "needs_background": "light"
     },
     "output_type": "display_data"
    }
   ],
   "source": [
    "plt.figure(figsize=(5,5))\n",
    "plt.title('$E(u,v)$')\n",
    "plt.imshow(E, cmap='gray')"
   ]
  },
  {
   "cell_type": "code",
   "execution_count": null,
   "metadata": {},
   "outputs": [],
   "source": [
    "fig = plt.figure()\n",
    "ax = fig.gca(projection='3d')\n",
    "X = np.arange(0,13)\n",
    "Y = np.arange(0,13)\n",
    "X, Y = np.meshgrid(X, Y)\n",
    "Z = E\n",
    "surf = ax.plot_surface(X, Y, Z, cmap=cm.coolwarm, linewidth=0, antialiased=False)\n",
    "#ax.set_zlim(-1.01, 1.01)\n",
    "#ax.zaxis.set_major_locator(LinearLocator(10))\n",
    "#ax.zaxis.set_major_formatter(FormatStrFormatter('%.02f'))\n",
    "# Add a color bar which maps values to colors.\n",
    "fig.colorbar(surf, shrink=0.5, aspect=5)\n",
    "plt.show()"
   ]
  },
  {
   "cell_type": "code",
   "execution_count": null,
   "metadata": {},
   "outputs": [],
   "source": []
  },
  {
   "cell_type": "code",
   "execution_count": null,
   "metadata": {},
   "outputs": [],
   "source": []
  },
  {
   "cell_type": "code",
   "execution_count": null,
   "metadata": {},
   "outputs": [],
   "source": []
  },
  {
   "cell_type": "markdown",
   "metadata": {},
   "source": [
    "## Interest Points - Exercise 01"
   ]
  },
  {
   "cell_type": "code",
   "execution_count": 10,
   "metadata": {},
   "outputs": [
    {
     "name": "stdout",
     "output_type": "stream",
     "text": [
      "M at (7,7) =\n",
      " [[502.4  163.84]\n",
      " [163.84 502.4 ]]\n"
     ]
    },
    {
     "data": {
      "image/png": "[encoded data removed]",
      "text/plain": [
       "<Figure size 432x288 with 1 Axes>"
      ]
     },
     "metadata": {
      "needs_background": "light"
     },
     "output_type": "display_data"
    }
   ],
   "source": [
    "# %load solutions/interest-points/solution-01.py\n",
    "import cv2 as cv\n",
    "import numpy as np\n",
    "import matplotlib.pyplot as plt\n",
    "\n",
    "I = np.ones((16,16), dtype='float')\n",
    "I[:8,:8] = np.zeros((8,8))\n",
    "plt.imshow(I, cmap='gray')\n",
    "plt.plot(7,7,'ro')\n",
    "\n",
    "Ix = cv.Sobel(I, cv.CV_64F, 1, 0, ksize=5)\n",
    "Iy = cv.Sobel(I, cv.CV_64F, 0, 1, ksize=5)\n",
    "\n",
    "Ix2 = np.multiply(Ix,Ix)\n",
    "Iy2 = np.multiply(Iy,Iy)\n",
    "IxIy = np.multiply(Ix,Iy)\n",
    "\n",
    "SIx2 = cv.blur(Ix2, (5,5)).flatten()\n",
    "SIy2 = cv.blur(Iy2, (5,5)).flatten()\n",
    "SIxIy = cv.blur(IxIy, (5,5)).flatten()\n",
    "\n",
    "\n",
    "M = np.vstack((SIx2, SIxIy, SIxIy, SIy2 )).reshape(4,16,16)\n",
    "print('M at (7,7) =\\n', M[:,7,7].reshape(2,2))"
   ]
  },
  {
   "cell_type": "code",
   "execution_count": 6,
   "metadata": {},
   "outputs": [
    {
     "name": "stdout",
     "output_type": "stream",
     "text": [
      "(256,)\n",
      "256\n"
     ]
    }
   ],
   "source": [
    "print(SIx2.shape)\n",
    "print(I.shape[0] * I.shape[1])"
   ]
  },
  {
   "cell_type": "code",
   "execution_count": 7,
   "metadata": {},
   "outputs": [
    {
     "name": "stdout",
     "output_type": "stream",
     "text": [
      "(4, 256)\n"
     ]
    }
   ],
   "source": [
    "foo = np.vstack((SIx2, SIxIy, SIxIy, SIy2))\n",
    "print(foo.shape)"
   ]
  },
  {
   "cell_type": "code",
   "execution_count": 24,
   "metadata": {},
   "outputs": [
    {
     "ename": "error",
     "evalue": "OpenCV(4.4.0) /private/var/folders/nz/vv4_9tw56nv9k3tkvyszvwg80000gn/T/pip-req-build-vo4apon2/opencv/modules/imgproc/src/resize.cpp:3929: error: (-215:Assertion failed) !ssize.empty() in function 'resize'\n",
     "output_type": "error",
     "traceback": [
      "\u001b[0;31m---------------------------------------------------------------------------\u001b[0m",
      "\u001b[0;31merror\u001b[0m                                     Traceback (most recent call last)",
      "\u001b[0;32m<ipython-input-24-0d30e75d39ab>\u001b[0m in \u001b[0;36m<module>\u001b[0;34m\u001b[0m\n\u001b[1;32m      1\u001b[0m \u001b[0mfilename\u001b[0m \u001b[0;34m=\u001b[0m \u001b[0;34m'data/corners-multiscale.png'\u001b[0m\u001b[0;34m\u001b[0m\u001b[0;34m\u001b[0m\u001b[0m\n\u001b[1;32m      2\u001b[0m \u001b[0mimg\u001b[0m \u001b[0;34m=\u001b[0m \u001b[0mcv\u001b[0m\u001b[0;34m.\u001b[0m\u001b[0mimread\u001b[0m\u001b[0;34m(\u001b[0m\u001b[0mfilename\u001b[0m\u001b[0;34m)\u001b[0m\u001b[0;34m\u001b[0m\u001b[0;34m\u001b[0m\u001b[0m\n\u001b[0;32m----> 3\u001b[0;31m \u001b[0mimg\u001b[0m \u001b[0;34m=\u001b[0m \u001b[0mcv\u001b[0m\u001b[0;34m.\u001b[0m\u001b[0mresize\u001b[0m\u001b[0;34m(\u001b[0m\u001b[0mimg\u001b[0m\u001b[0;34m,\u001b[0m \u001b[0;34m(\u001b[0m\u001b[0;36m256\u001b[0m\u001b[0;34m,\u001b[0m\u001b[0;36m256\u001b[0m\u001b[0;34m)\u001b[0m\u001b[0;34m)\u001b[0m\u001b[0;34m\u001b[0m\u001b[0;34m\u001b[0m\u001b[0m\n\u001b[0m\u001b[1;32m      4\u001b[0m \u001b[0mimg\u001b[0m \u001b[0;34m=\u001b[0m \u001b[0mcv\u001b[0m\u001b[0;34m.\u001b[0m\u001b[0mcvtColor\u001b[0m\u001b[0;34m(\u001b[0m\u001b[0mimg\u001b[0m\u001b[0;34m,\u001b[0m \u001b[0mcv\u001b[0m\u001b[0;34m.\u001b[0m\u001b[0mCOLOR_BGR2RGB\u001b[0m\u001b[0;34m)\u001b[0m\u001b[0;34m\u001b[0m\u001b[0;34m\u001b[0m\u001b[0m\n\u001b[1;32m      5\u001b[0m \u001b[0mgray\u001b[0m \u001b[0;34m=\u001b[0m \u001b[0mcv\u001b[0m\u001b[0;34m.\u001b[0m\u001b[0mcvtColor\u001b[0m\u001b[0;34m(\u001b[0m\u001b[0mimg\u001b[0m\u001b[0;34m,\u001b[0m \u001b[0mcv\u001b[0m\u001b[0;34m.\u001b[0m\u001b[0mCOLOR_BGR2GRAY\u001b[0m\u001b[0;34m)\u001b[0m\u001b[0;34m\u001b[0m\u001b[0;34m\u001b[0m\u001b[0m\n",
      "\u001b[0;31merror\u001b[0m: OpenCV(4.4.0) /private/var/folders/nz/vv4_9tw56nv9k3tkvyszvwg80000gn/T/pip-req-build-vo4apon2/opencv/modules/imgproc/src/resize.cpp:3929: error: (-215:Assertion failed) !ssize.empty() in function 'resize'\n"
     ]
    }
   ],
   "source": [
    "filename = 'data/corners-multiscale.png'\n",
    "img = cv.imread(filename) \n",
    "img = cv.resize(img, (256,256))\n",
    "img = cv.cvtColor(img, cv.COLOR_BGR2RGB)\n",
    "gray = cv.cvtColor(img, cv.COLOR_BGR2GRAY)\n",
    "gray = np.float32(gray)\n",
    "\n",
    "plt.figure(figsize=(5,5))\n",
    "plt.imshow(img)"
   ]
  },
  {
   "cell_type": "code",
   "execution_count": null,
   "metadata": {},
   "outputs": [],
   "source": []
  }
 ],
 "metadata": {
  "kernelspec": {
   "display_name": "Python 3",
   "language": "python",
   "name": "python3"
  },
  "language_info": {
   "codemirror_mode": {
    "name": "ipython",
    "version": 3
   },
   "file_extension": ".py",
   "mimetype": "text/x-python",
   "name": "python",
   "nbconvert_exporter": "python",
   "pygments_lexer": "ipython3",
   "version": "3.8.3"
  }
 },
 "nbformat": 4,
 "nbformat_minor": 4
}
