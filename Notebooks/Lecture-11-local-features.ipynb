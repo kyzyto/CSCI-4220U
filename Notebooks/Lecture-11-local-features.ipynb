{
 "cells": [
  {
   "cell_type": "markdown",
   "metadata": {},
   "source": [
    "## Exercise 1\n",
    "Compute Cosine and Euclidean distance matrix between three vectors  [1,0,0] ,  [0,1,0] ,  [1,1,0] , and  [10,−2,1] "
   ]
  },
  {
   "cell_type": "code",
   "execution_count": 13,
   "metadata": {},
   "outputs": [
    {
     "name": "stdout",
     "output_type": "stream",
     "text": [
      "Shape of X is (4, 3)\n",
      "[[ 1  0  0]\n",
      " [ 0  1  0]\n",
      " [ 1  1  0]\n",
      " [10 -2  1]]\n",
      "euclidean distance\n",
      "[[ 1.         -0.41421356  0.         -8.2736185 ]\n",
      " [-0.41421356  1.          0.         -9.48808848]\n",
      " [ 0.          0.          1.         -8.53939201]\n",
      " [-8.2736185  -9.48808848 -8.53939201  1.        ]]\n"
     ]
    }
   ],
   "source": [
    "# %load solutions/local-features/solution-01.py\n",
    "from scipy.spatial import distance\n",
    "import numpy as np\n",
    "\n",
    "a = np.array([1,0,0])\n",
    "b = np.array([0,1,0])\n",
    "c = np.array([1,1,0])\n",
    "d = np.array([10,-2,1])\n",
    "\n",
    "# Set up a m-by-n matrix, where m is the number of\n",
    "# data items and n is the dimension\n",
    "\n",
    "X = np.vstack((a,b,c,d))\n",
    "print(f'Shape of X is {X.shape}')\n",
    "print(X)\n",
    "\n",
    "# D is condensed matrix\n",
    "metric = ['cosine', 'euclidean']\n",
    "#i = 0 #for cosine distance\n",
    "i = 1 #for euclidean distance\n",
    "D = distance.pdist(X, metric[i])\n",
    "\n",
    "#Lets convert it into square form\n",
    "print(f'{metric[i]} distance')\n",
    "print(1.0 - distance.squareform(D))"
   ]
  },
  {
   "cell_type": "markdown",
   "metadata": {},
   "source": [
    "## Exercise 2\n",
    "Compute Cosine similarity matrix between  [1,0,0] ,  [0,1,0] ,  [1,1,0] , and  [10,−2,1] "
   ]
  },
  {
   "cell_type": "code",
   "execution_count": 7,
   "metadata": {},
   "outputs": [
    {
     "name": "stdout",
     "output_type": "stream",
     "text": [
      "Shape of X is (4, 3)\n",
      "[[ 1  0  0]\n",
      " [ 0  1  0]\n",
      " [ 1  1  0]\n",
      " [10 -2  1]]\n",
      "euclidean similarity\n",
      "[[ 1.         -0.41421356  0.         -8.2736185 ]\n",
      " [-0.41421356  1.          0.         -9.48808848]\n",
      " [ 0.          0.          1.         -8.53939201]\n",
      " [-8.2736185  -9.48808848 -8.53939201  1.        ]]\n"
     ]
    }
   ],
   "source": [
    "# %load solutions/local-features/solution-02.py\n",
    "from scipy.spatial import distance\n",
    "import numpy as np\n",
    "\n",
    "a = np.array([1,0,0])\n",
    "b = np.array([0,1,0])\n",
    "c = np.array([1,1,0])\n",
    "d = np.array([10,-2,1])\n",
    "\n",
    "# Set up a m-by-n matrix, where m is the number of\n",
    "# data items and n is the dimension\n",
    "\n",
    "X = np.vstack((a,b,c,d))\n",
    "print(f'Shape of X is {X.shape}')\n",
    "print(X)\n",
    "\n",
    "# D is condensed matrix\n",
    "metric = ['cosine', 'euclidean']\n",
    "#i = 0 #for cosine distance\n",
    "i = 1 #for euclidean distance\n",
    "D = distance.pdist(X, metric[i])\n",
    "\n",
    "#Lets convert it into square form\n",
    "print(f'{metric[i]} similarity')\n",
    "print(1.0 - distance.squareform(D))"
   ]
  },
  {
   "cell_type": "markdown",
   "metadata": {},
   "source": [
    "## Exercise 3\n",
    "Compute similarity matrix between  [1,0,0] ,  [0,1,0] ,  [1,1,0] , and  [10,−2,1] . Assume Euclidean distance metric."
   ]
  },
  {
   "cell_type": "code",
   "execution_count": 12,
   "metadata": {},
   "outputs": [
    {
     "name": "stdout",
     "output_type": "stream",
     "text": [
      "Distance:\n",
      " [[ 0.          1.41421356  1.          9.2736185 ]\n",
      " [ 1.41421356  0.          1.         10.48808848]\n",
      " [ 1.          1.          0.          9.53939201]\n",
      " [ 9.2736185  10.48808848  9.53939201  0.        ]]\n",
      "euclidean similarity\n",
      "Similarity:\n",
      " [[1.0e+00 0.0e+00 0.0e+00 0.0e+00]\n",
      " [0.0e+00 1.0e+00 0.0e+00 0.0e+00]\n",
      " [0.0e+00 0.0e+00 1.0e+00 0.0e+00]\n",
      " [0.0e+00 0.0e+00 0.0e+00 1.0e+00]]\n"
     ]
    }
   ],
   "source": [
    "# %load solutions/local-features/solution-03.py\n",
    "from scipy.spatial import distance\n",
    "import numpy as np\n",
    "\n",
    "a = np.array([1,0,0])\n",
    "b = np.array([0,1,0])\n",
    "c = np.array([1,1,0])\n",
    "d = np.array([10,-2,1])\n",
    "\n",
    "# Set up a m-by-n matrix, where m is the number of\n",
    "# data items and n is the dimension\n",
    "\n",
    "X = np.vstack((a,b,c,d))\n",
    "#print(f'Shape of X is {X.shape}')\n",
    "#print(X)\n",
    "\n",
    "# D is condensed matrix\n",
    "metric = ['cosine', 'euclidean']\n",
    "#i = 0\n",
    "i = 1 \n",
    "D = distance.squareform(distance.pdist(X, metric[i]))\n",
    "print('Distance:\\n', D)\n",
    "\n",
    "#Lets convert it into square form\n",
    "sigma = 0.0001\n",
    "scaling = 2 * (sigma ** 2)\n",
    "\n",
    "\n",
    "print(f'{metric[i]} similarity')\n",
    "np.set_printoptions(formatter={'float': lambda x: \"{0:0.1e}\".format(x)})\n",
    "S = np.exp(-D**2 / (scaling))\n",
    "\n",
    "print('Similarity:\\n', S)\n",
    "np.set_printoptions() #To not mess with other printing"
   ]
  },
  {
   "cell_type": "markdown",
   "metadata": {},
   "source": [
    "## KDTree data structure"
   ]
  },
  {
   "cell_type": "code",
   "execution_count": null,
   "metadata": {},
   "outputs": [],
   "source": []
  }
 ],
 "metadata": {
  "kernelspec": {
   "display_name": "Python 3",
   "language": "python",
   "name": "python3"
  },
  "language_info": {
   "codemirror_mode": {
    "name": "ipython",
    "version": 3
   },
   "file_extension": ".py",
   "mimetype": "text/x-python",
   "name": "python",
   "nbconvert_exporter": "python",
   "pygments_lexer": "ipython3",
   "version": "3.8.3"
  }
 },
 "nbformat": 4,
 "nbformat_minor": 4
}
